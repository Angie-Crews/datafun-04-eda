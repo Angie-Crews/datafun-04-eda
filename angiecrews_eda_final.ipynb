{
 "cells": [
  {
   "cell_type": "markdown",
   "id": "0ad1f7e3",
   "metadata": {},
   "source": [
    "## Exploratory Data Analysis\n",
    "\n",
    "Objective: Implement Jupyter Notebook to perform exploratory data analysis\n",
    " (EDA) using pandas and other tools. \n",
    "We will use the Seaborn library to load the Iris dataset. \n",
    "Review the dataset here: iris.csv or see the local copy provided iris.csv.\n",
    "\n",
    "## Step 1. Initial Title, Header, and Imports\n",
    "Start by getting organized and providing the focus for your notebook. \n",
    "1. Create a single Markdown title. \n",
    "2. Create a Markdown header with author name, purpose, and date at the top.\n",
    "3. Create a numbered section for Imports (using a Markdown cell).\n",
    "4. Create a Python cell for all the import statements needed for this notebook, for example (yours may vary):\n",
    "\n",
    "Jupyter Notebook Python cell example:"
   ]
  },
  {
   "cell_type": "code",
   "execution_count": null,
   "id": "8a0f1f60",
   "metadata": {},
   "outputs": [],
   "source": [
    "import pandas as pd\n",
    "import seaborn as sns\n",
    "import matplotlib \n",
    "\n",
    "# Axes object (basic plot type returned by Seaborn)\n",
    "from matplotlib.axes import Axes"
   ]
  },
  {
   "cell_type": "markdown",
   "id": "301121f4",
   "metadata": {},
   "source": [
    "## Step 2. Load Data\n",
    "Then, we acquire the data and load the data \n",
    "into a suitable structure for analysis, \n",
    "typically a pandas DataFrame when working with Python. \n",
    "Everything we learned about data earlier can be helpful in this step. \n",
    "You should be able to read csv, txt, JSON and more.\n",
    "\n",
    "Some Python tools have datasets built in. \n",
    "We'll use these so we can focus on the new skills in this module. \n",
    "For example, in this project, we use the Iris dataset available in the Seaborn library. \n",
    "\n",
    "The Iris dataset is a well-known dataset in data science and machine learning, \n",
    "often used for various classification tasks and basic data exploration.\n",
    "\n",
    "Load the data into a pandas DataFrame which is used to handle 2-dimensional spreadsheet data.  \n",
    "We'll use sns.load_dataset() function and pass in the 'iris' (the name without .csv) to populate our DataFrame.\n",
    "\n",
    "Jupyter Notebook Python cell example:"
   ]
  },
  {
   "cell_type": "code",
   "execution_count": null,
   "id": "98f25566",
   "metadata": {},
   "outputs": [],
   "source": [
    "# Load the Iris dataset into pandas DataFrame\n",
    "iris_df: pd.DataFrame = sns.load_dataset('iris')\n",
    "\n",
    "# List column names\n",
    "iris_df.columns\n",
    "\n",
    "# Inspect first few rows of the DataFrame\n",
    "iris_df.head()"
   ]
  },
  {
   "cell_type": "markdown",
   "id": "791f164e",
   "metadata": {},
   "source": [
    "## Step 3. Initial Data Inspection\n",
    "Once the data is loaded, the first task is to get a sense of what we're working with.\n",
    "\n",
    "We can check the first few rows of the dataset using the DataFrame head() method to understand the structure of the data. \n",
    "We can pass in an argument with the specific number of rows to view.\n",
    "We can check the shape of the DataFrame with shape to see the number of rows and columns (an attribute - note there are no parentheses). \n",
    "We can see the data types of each column with dtypes (an attribute - note there are no parentheses). \n",
    "We can see a bit more by calling the info() method. \n",
    "This step is crucial for getting familiar with the dataset's format, size, \n",
    "and the type of information each column holds. \n",
    "\n",
    "Jupyter Notebook Python cell example:"
   ]
  },
  {
   "cell_type": "code",
   "execution_count": null,
   "id": "3617d3e5",
   "metadata": {},
   "outputs": [],
   "source": [
    "# Specify the number of rows to display\n",
    "iris_df.head(10)\n",
    "\n",
    "# Inspect the shape of the DataFrame with shape attribute\n",
    "# The shape is a tuple with count of rows and columns in the DataFrame\n",
    "iris_df.shape\n",
    "\n",
    "# Inspect the data types of the columns with dtypes attribute\n",
    "# The data types are returned as a pandas Series\n",
    "iris_df.dtypes\n",
    "\n",
    "# Inspect the data types of the columns with info() method\n",
    "iris_df.info()"
   ]
  },
  {
   "cell_type": "markdown",
   "id": "0de839f6",
   "metadata": {},
   "source": [
    "## Step 4. Initial Descriptive Statistics\n",
    "The next step is to look at summary statistics.\n",
    "\n",
    "Use the DataFrame describe() method to obtain a statistical summary of the numerical columns.\n",
    "This includes count, mean, standard deviation, minimum, and maximum values, as well as the quartiles.\n",
    "This provides insights into the distribution and central tendencies of the data, which can be crucial for identifying patterns, anomalies, or data integrity issues.\n",
    "\n",
    "Jupyter Notebook Python cell example:"
   ]
  },
  {
   "cell_type": "code",
   "execution_count": null,
   "id": "ba7b48e7",
   "metadata": {},
   "outputs": [],
   "source": [
    "# Inspect summary statistics for numerical columns\n",
    "iris_df.describe()"
   ]
  },
  {
   "cell_type": "markdown",
   "id": "a64ce7e3",
   "metadata": {},
   "source": [
    "## Step 5. Initial Data Distribution for Numerical Columns\n",
    "We can show a histogram for a single numerical column by providing the EXACT column name. \n",
    "To show histograms for ALL numerical columns, we can use hist().\n",
    "\n",
    "Jupyter Notebook Python cell example:"
   ]
  },
  {
   "cell_type": "code",
   "execution_count": null,
   "id": "2925d293",
   "metadata": {},
   "outputs": [],
   "source": [
    "# Inspect histogram by one numerical column\n",
    "iris_df['sepal_length'].hist()\n",
    "\n",
    "# Inspect histograms for ALL numerical columns\n",
    "iris_df.hist()\n",
    "\n",
    "# Show all plots\n",
    "matplotlib.pyplot.show()"
   ]
  },
  {
   "cell_type": "markdown",
   "id": "8d8ea6d2",
   "metadata": {},
   "source": [
    "Afterwards, use a Markdown cell to document your observations.\n",
    "\n",
    "## Step 5. Initial Data Distribution for Categorical Columns\n",
    "Choose a categorical column and use iris_df['column_name'].value_counts() to display the count of each category. \n",
    "Use a loop to show the value counts for all categorical columns.\n",
    "\n",
    "Jupyter Notebook Python cell example:"
   ]
  },
  {
   "cell_type": "code",
   "execution_count": null,
   "id": "9a2e96f5",
   "metadata": {},
   "outputs": [],
   "source": [
    "# Inspect value counts by categorical column\n",
    "# Column name must be EXACT.\n",
    "# The value_counts() method is only available for Series objects.\n",
    "# The value_counts() method returns a pandas Series with the counts of unique values in the column.\n",
    "iris_df['species'].value_counts()\n",
    "\n",
    "# Inspect value counts for ALL categorical columns\n",
    "for col in iris_df.select_dtypes(include=['object', 'category']).columns:\n",
    "    # Display count plot\n",
    "    sns.countplot(x=col, data=iris_df)\n",
    "    matplotlib.pyplot.title(f'Distribution of {col}')\n",
    "    matplotlib.pyplot.show()\n",
    "\n",
    "# Show all plots\n",
    "matplotlib.pyplot.show()"
   ]
  },
  {
   "cell_type": "markdown",
   "id": "71e2525a",
   "metadata": {},
   "source": [
    "Afterwards, use a Markdown cell to document your observations.\n",
    "\n",
    "## Step 6. Initial Data Transformation and Feature Engineering\n",
    " Data rarely comes in the format needed for optimal analysis. \n",
    " This phase of data preparation or preprocessing is a multifaceted process that \n",
    " involves both cleaning and transforming the data for analysis. \n",
    "\n",
    "The distinction can be subtle, but in general:\n",
    "\n",
    "***Data Cleaning*** is about ensuring the quality and consistency of the data. This includes:\n",
    "- Handling missing values to prevent gaps in analysis.\n",
    "- Removing duplicate entries to avoid skewed results.\n",
    "- Correcting errors to maintain data accuracy.\n",
    "- Potentially standardizing formats, such as ensuring dates are consistently formatted or categorical data is uniformly labeled.\n",
    "\n",
    "**Data Transformation** focuses on preparing the data for analysis. This involves:\n",
    "- Normalization or standardization of numerical data to bring different scales to a common scale.\n",
    "- Encoding categorical variables, such as through one-hot encoding, to make them suitable for analysis.\n",
    "- Renaming columns for clarity and consistency across the dataset.\n",
    "- Feature engineering, which involves creating new features from existing data.\n",
    "\n",
    "Use pandas and other tools to perform cleaning and transformations as needed.  \n",
    "This step refines raw data into a form where additional analytical techniques \n",
    "can be applied more effectively.\n",
    "\n",
    "Jupyter Notebook Python cell example:"
   ]
  },
  {
   "cell_type": "code",
   "execution_count": null,
   "id": "547196a0",
   "metadata": {},
   "outputs": [],
   "source": [
    "# Feature Engineering\n",
    "# Renaming a column\n",
    "iris_df.rename(columns={'sepal_length': 'Sepal Length'}, inplace=True)\n",
    "\n",
    "# Adding a new column\n",
    "iris_df['Sepal Area'] = iris_df['Sepal Length'] * iris_df['sepal_width']"
   ]
  },
  {
   "cell_type": "markdown",
   "id": "44793d18",
   "metadata": {},
   "source": [
    "## Step 7. Initial Visualizations\n",
    "With the data in the right shape, using the features and columns in the desired format, \n",
    "the next step is to begin visualization. \n",
    "This involves using appropriate chart types to extract and present insights from the data.\n",
    "\n",
    "Libraries like seaborn and matplotlib offer a wide range of visualization options. \n",
    "For instance, pair plots from seaborn can be very useful for understanding relationships between all variables in a dataset. \n",
    "Create a variety of chart types using seaborn and matplotlib to showcase different aspects of the data. \n",
    "\n",
    "Jupyter Notebook Python cell example:"
   ]
  },
  {
   "cell_type": "code",
   "execution_count": null,
   "id": "8acbb569",
   "metadata": {},
   "outputs": [],
   "source": [
    "# Feature Engineering\n",
    "# Renaming a column\n",
    "iris_df.rename(columns={'sepal_length': 'Sepal Length'}, inplace=True)\n",
    "\n",
    "# Adding a new column\n",
    "iris_df['Sepal Area'] = iris_df['Sepal Length'] * iris_df['sepal_width']\n",
    "\n",
    "# Create a pairplot of the Iris dataset\n",
    "# A pairplot is a grid of scatter plots for each pair of numerical columns in the dataset\n",
    "# The hue parameter is used to color the data points \n",
    "# by species (a categorical column)\n",
    "sns.pairplot(iris_df, hue='species')\n",
    "\n",
    "# Show all plots\n",
    "matplotlib.pyplot.show()"
   ]
  },
  {
   "cell_type": "markdown",
   "id": "607eda3a",
   "metadata": {},
   "source": [
    "Important: After each visualization, use Markdown cells to document your observations and insights.\n",
    "\n",
    "Add a scatter plot - good for showing two numerical variables with a categorical attribute as the color of the dot at each xy point.\n",
    "\n",
    "Jupyter Notebook Python cell example:"
   ]
  },
  {
   "cell_type": "code",
   "execution_count": null,
   "id": "74c036b2",
   "metadata": {},
   "outputs": [],
   "source": [
    "# A scatter plot is a plot of two numerical variables.\n",
    "scatter_plt: Axes = sns.scatterplot(\n",
    "    data=iris_df, x=\"Sepal Length\", y=\"Sepal Area\", hue=\"species\"\n",
    ")\n",
    "\n",
    "# Set axis labels using the Matplotlib Axes methods set_xlabel() and set_ylabel()\n",
    "scatter_plt.set_xlabel(\"Sepal Length (mm)\")\n",
    "scatter_plt.set_ylabel(\"Sepal Area (mm squared)\")   \n",
    "\n",
    "# Set the title using the Matplotlib Axes set_title() method\n",
    "scatter_plt.set_title(\"Chart 1. Iris Sepal Length vs. Sepal Area (by Species)\")\n",
    "\n",
    "matplotlib.pyplot.show()"
   ]
  },
  {
   "cell_type": "markdown",
   "id": "05c60cd1",
   "metadata": {},
   "source": [
    "## Step 8. Initial Insights\n",
    "Use your chart headings and annotations to provide your insights. \n",
    "At the end add a section that summarizes your initial insights based on the facts discovered during your initial exploratory data analysis. \n",
    "\n",
    "## Step 9. Annotate Your Notebook for Storytelling and Presentation\n",
    "The final step of the EDA process is interpreting the visualizations and \n",
    "statistics to craft a compelling narrative around your findings. \n",
    "This involves combining your technical analysis with storytelling techniques to \n",
    "make your findings clear and engaging for your audience. \n",
    "The goal is to provide actionable insights and convey the significance of your \n",
    "findings in a way that resonates with stakeholders, regardless of their \n",
    "technical background.\n",
    "\n",
    "Use your own custom opening to introduce yourself and the focus of your notebook. \n",
    "Use Markdown section headings to introduce each step. \n",
    "Interpret the visualizations and statistics to narrate a clear and compelling data story. \n",
    "Present your findings in a logical and engaging manner.\n",
    "Present your notebook with an opening that introduces yourself and your topic. \n",
    "Use Markdown section headings to introduce each step. \n",
    "Interpret the visualizations and statistics to narrate a clear and compelling data story. \n",
    "Present your findings in a logical and engaging manner.\n",
    "\n",
    "## Checklist\n",
    "\n",
    "- [ ] Notebook has exactly one Markdown title (with a single hash).\n",
    "- [ ] Notebook has useful Markdown header cell with author and purpose, and optionally, the date.\n",
    "- [ ] Notebook uses numbered second level Markdown headings for organization. \n",
    "- [ ] Notebook has numbered sections with useful content for:\n",
    "  - [ ] 1. Imports\n",
    "  - [ ] 2. Load Data\n",
    "  - [ ] 3. Initial Data Inspection\n",
    "  - [ ] 4. Initial Descriptive Statistics\n",
    "  - [ ] 5. Initial Data Distribution for Numerical Columns\n",
    "  - [ ] 6. Initial Data Transformation and Feature Engineering\n",
    "  - [ ] 7. Initial Visualizations\n",
    "  - [ ] 8. Initial Insights\n",
    "- [ ] Notebook includes commentary as we go that tells a unique data story. \n",
    "- [ ] Notebook includes unique insights into the dataset. \n",
    "- [ ] Code and visuals are working, notebook is fully executed and on display in GitHub."
   ]
  }
 ],
 "metadata": {
  "kernelspec": {
   "display_name": ".venv",
   "language": "python",
   "name": "python3"
  },
  "language_info": {
   "name": "python",
   "version": "3.13.7"
  }
 },
 "nbformat": 4,
 "nbformat_minor": 5
}
